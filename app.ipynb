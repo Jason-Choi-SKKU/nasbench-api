{
 "cells": [
  {
   "cell_type": "code",
   "execution_count": 1,
   "source": [
    "from __future__ import division\r\n",
    "from __future__ import print_function\r\n",
    "from __future__ import absolute_import\r\n",
    "\r\n",
    "from flask import Flask, request\r\n",
    "from flask_restx import Resource, Api, reqparse\r\n",
    "from flask_cors import CORS\r\n",
    "\r\n",
    "from absl import app as absl_app\r\n",
    "from nasbench import api as nasbench_api\r\n",
    "\r\n",
    "\r\n",
    "\r\n",
    "NASBENCH_TFRECORD = './nasbench_only108.tfrecord'\r\n",
    "nasbench = nasbench_api.NASBench(NASBENCH_TFRECORD)\r\n",
    "app = Flask(__name__)\r\n",
    "CORS(app)\r\n",
    "api = Api(app)\r\n",
    "\r\n"
   ],
   "outputs": [
    {
     "output_type": "stream",
     "name": "stdout",
     "text": [
      "WARNING:tensorflow:From C:\\Python39\\lib\\site-packages\\tensorflow\\python\\compat\\v2_compat.py:96: disable_resource_variables (from tensorflow.python.ops.variable_scope) is deprecated and will be removed in a future version.\n",
      "Instructions for updating:\n",
      "non-resource variables are not supported in the long term\n",
      "Loading dataset from file... This may take a few minutes...\n",
      "WARNING:tensorflow:From c:\\Users\\sdij\\Documents\\git\\nasbench-flask-api\\nasbench\\api.py:148: tf_record_iterator (from tensorflow.python.lib.io.tf_record) is deprecated and will be removed in a future version.\n",
      "Instructions for updating:\n",
      "Use eager execution and: \n",
      "`tf.data.TFRecordDataset(path)`\n",
      "Loaded dataset in 93 seconds\n"
     ]
    }
   ],
   "metadata": {}
  },
  {
   "cell_type": "code",
   "execution_count": 2,
   "source": [
    "from module.querying import get_data_from_nasbench\r\n",
    "\r\n",
    "\r\n",
    "@api.route('/querying')\r\n",
    "class Querying(Resource):\r\n",
    "    def post(self):\r\n",
    "        input_matrix = request.json.get('matrix')\r\n",
    "        ops = request.json.get('ops')\r\n",
    "        return get_data_from_nasbench(nasbench_api, nasbench, input_matrix, ops)"
   ],
   "outputs": [],
   "metadata": {}
  },
  {
   "cell_type": "code",
   "execution_count": null,
   "source": [
    "from module.cell_recommendation import cell_recommendation\r\n",
    "\r\n",
    "@api.route('/recommendation')\r\n",
    "class Recommendation(Resource):\r\n",
    "    def post(self):\r\n",
    "        edge_data = request.json.get('edge_data')\r\n",
    "        ops = request.json.get('ops')\r\n",
    "        return get_candidate_cell(nasbench_api, nasbench, edge_data, ops)\r\n",
    "        "
   ],
   "outputs": [],
   "metadata": {}
  },
  {
   "cell_type": "code",
   "execution_count": 3,
   "source": [
    "from module.sharpley_values import sharpley_values\r\n",
    "\r\n",
    "\r\n",
    "@api.route('/overview/edge-sharpley-value')\r\n",
    "class EdgeSharpleyValue(Resource):\r\n",
    "    def get(self):\r\n",
    "        return sharpley_values"
   ],
   "outputs": [],
   "metadata": {}
  },
  {
   "cell_type": "code",
   "execution_count": 5,
   "source": [
    "\r\n",
    "if __name__ == '__main__':\r\n",
    "    app.run(debug=False, host='0.0.0.0', port=5000)\r\n"
   ],
   "outputs": [
    {
     "output_type": "stream",
     "name": "stdout",
     "text": [
      " * Serving Flask app \"__main__\" (lazy loading)\n",
      " * Environment: production\n",
      "\u001b[31m   WARNING: This is a development server. Do not use it in a production deployment.\u001b[0m\n",
      "\u001b[2m   Use a production WSGI server instead.\u001b[0m\n",
      " * Debug mode: off\n"
     ]
    },
    {
     "output_type": "stream",
     "name": "stderr",
     "text": [
      " * Running on all addresses.\n",
      "   WARNING: This is a development server. Do not use it in a production deployment.\n",
      " * Running on http://192.168.0.54:5000/ (Press CTRL+C to quit)\n",
      "192.168.0.65 - - [17/Aug/2021 11:41:19] \"GET /overview/edge-sharpley-value HTTP/1.1\" 200 -\n",
      "192.168.0.65 - - [17/Aug/2021 11:51:24] \"GET /overview/edge-sharpley-value HTTP/1.1\" 200 -\n"
     ]
    }
   ],
   "metadata": {}
  }
 ],
 "metadata": {
  "orig_nbformat": 4,
  "language_info": {
   "name": "python",
   "version": "3.9.2",
   "mimetype": "text/x-python",
   "codemirror_mode": {
    "name": "ipython",
    "version": 3
   },
   "pygments_lexer": "ipython3",
   "nbconvert_exporter": "python",
   "file_extension": ".py"
  },
  "kernelspec": {
   "name": "python3",
   "display_name": "Python 3.9.2 64-bit"
  },
  "interpreter": {
   "hash": "63fd5069d213b44bf678585dea6b12cceca9941eaf7f819626cde1f2670de90d"
  }
 },
 "nbformat": 4,
 "nbformat_minor": 2
}